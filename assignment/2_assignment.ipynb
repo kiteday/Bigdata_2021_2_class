{
 "cells": [
  {
   "cell_type": "markdown",
   "id": "5265975b",
   "metadata": {},
   "source": [
    "serviceKey=str(key['gokr'])<br>\n",
    "title = ''<br>\n",
    "manageCd =''<br>\n",
    "numOfRows =str(10)<br>\n",
    "pageNo=str(1)<br>"
   ]
  },
  {
   "cell_type": "code",
   "execution_count": 1,
   "id": "a65794b4",
   "metadata": {},
   "outputs": [],
   "source": [
    "import os\n",
    "import src.mylib\n",
    "\n",
    "keyPath=os.path.join(os.getcwd(), 'src', 'key.properties')\n",
    "key=src.mylib.getKey(keyPath)\n",
    "# http://openapi-lib.sen.go.kr/openapi/service/lib/openApi"
   ]
  },
  {
   "cell_type": "code",
   "execution_count": 64,
   "id": "54bfcfe8",
   "metadata": {},
   "outputs": [],
   "source": [
    "import requests\n",
    "import urllib\n",
    "from urllib.parse import urlencode, quote_plus\n",
    "\n",
    "serviceKey=key['gokr2']\n",
    "#api_key_decode = requests.utils.unquote(api_key) \n",
    "#parameters = {\"serviceKey\":api_key_decode,\"title\":'파이썬',\"manageCd\":'MB', \"numOfROws\":10, \"pageNo\":1} \n",
    "parameters = urlencode({\"title\": \"파이썬\", \n",
    "                         \"manageCd\": \"MC\", \n",
    "                         \"numOfRows\": str(5),\n",
    "                         \"pageNo\": str(10)})"
   ]
  },
  {
   "cell_type": "code",
   "execution_count": 65,
   "id": "d55418e6",
   "metadata": {},
   "outputs": [],
   "source": [
    "import json\n",
    "\n",
    "#_d=dict()\n",
    "#_d['title']='파이썬'\n",
    "#para=json.dumps(parameters)\n",
    "#params2 = urllib.parse.urlencode(parameters)\n",
    "#urllib.parse.urlencode({'#q':u'한글'.encode('utf-8')})\n",
    "#params='serviceKey='+api_key_decode+'&'+params2\n",
    "params='serviceKey'+'='+api_key_decode+'&'+parameters"
   ]
  },
  {
   "cell_type": "code",
   "execution_count": 70,
   "id": "2091debd",
   "metadata": {},
   "outputs": [
    {
     "name": "stdout",
     "output_type": "stream",
     "text": [
      "http://openapi-lib.sen.go.kr/openapi/service/lib/openApi?serviceKey=fv0BpUABSNS0h69e8WhLjIzJsfC42vRLZ7lXwP95fz7bGoOjOEwMo+w15rUohAFBBwSPoW/d7Cka0Lt+yYp34w&serviceKey=&title=%ED%8C%8C%EC%9D%B4%EC%8D%AC&manageCd=MC&numOfRows=5&pageNo=10\n"
     ]
    }
   ],
   "source": [
    "_url ='http://openapi-lib.sen.go.kr/openapi/service/lib/openApi'\n",
    "#req = requests.get(_url, params = params2)\n",
    "url = _url + \"?serviceKey=\" + serviceKey + \"&\" + \"serviceKey=\" + \"&\" + parameters\n",
    "print(url)"
   ]
  },
  {
   "cell_type": "code",
   "execution_count": null,
   "id": "d66254dc",
   "metadata": {},
   "outputs": [],
   "source": [
    "data=requests.get(url).text\n",
    "print(data)"
   ]
  },
  {
   "cell_type": "code",
   "execution_count": 95,
   "id": "9003696a",
   "metadata": {},
   "outputs": [
    {
     "name": "stdout",
     "output_type": "stream",
     "text": [
      "Overwriting src/ds0_open_lib_book_list.py\n"
     ]
    }
   ],
   "source": [
    "%%writefile src/ds0_open_lib_book_list.py\n",
    "import os\n",
    "import mylib\n",
    "import requests\n",
    "import urllib\n",
    "\n",
    "def doIt():\n",
    "    keyPath=os.path.join(os.getcwd(), 'src', 'key.properties')\n",
    "    key=mylib.getKey(keyPath)\n",
    "    api_key=key['gokr2']\n",
    "    api_key_decode = requests.utils.unquote(api_key) \n",
    "    parameters = {\"ServiceKey\":api_key_decode,\"title\":'파이썬',\"manageCd\":'MB', \"numOfROws\":10, \"pageNo\":1} \n",
    "    params2 = urllib.parse.urlencode(parameters)\n",
    "    params='?'+'serviceKey='+api_key+'&'+params2\n",
    "    _url ='http://openapi-lib.sen.go.kr/openapi/service/lib/openApi/'\n",
    "    req = requests.get(_url, params = parameters)\n",
    "    \n",
    "if __name__ == \"__main__\":\n",
    "    doIt()"
   ]
  },
  {
   "cell_type": "code",
   "execution_count": 96,
   "id": "6a593606",
   "metadata": {},
   "outputs": [],
   "source": [
    "!python src/ds0_open_lib_book_list.py"
   ]
  },
  {
   "cell_type": "markdown",
   "id": "1acee044",
   "metadata": {},
   "source": [
    "## 안돼서 헷갈리니까 처음부터 다시"
   ]
  },
  {
   "cell_type": "code",
   "execution_count": 1,
   "id": "cae03afa",
   "metadata": {},
   "outputs": [],
   "source": [
    "import requests\n",
    "from urllib.parse import urlencode, quote_plus\n",
    "import os\n",
    "import src.mylib\n",
    "\n",
    "keyPath=os.path.join(os.getcwd(), 'src', 'key.properties')\n",
    "key=src.mylib.getKey(keyPath)"
   ]
  },
  {
   "cell_type": "code",
   "execution_count": 2,
   "id": "aa239814",
   "metadata": {},
   "outputs": [],
   "source": [
    "_url = \"http://openapi-lib.sen.go.kr/openapi/service/lib/openApi\""
   ]
  },
  {
   "cell_type": "code",
   "execution_count": 19,
   "id": "0f884ff3",
   "metadata": {},
   "outputs": [
    {
     "name": "stdout",
     "output_type": "stream",
     "text": [
      "http://openapi-lib.sen.go.kr/openapi/service/lib/openApi?serviceKey=8Bx4C1%2Bbogiu3i0M5k7aqOf%2BTA5yCWK%2BFDI7nTSJ0oAhDj1NC5CtbI1TMgFmnpuZxJ9LBoCScqBhuw5sul2tmQ%3D%3D&serviceKey=&title=%ED%8C%8C%EC%9D%B4%EC%8D%AC&manageCd=MA&numOfRows=5&pageNo=10\n"
     ]
    }
   ],
   "source": [
    "serviceKey = key[\"gokr2\"]\n",
    "queryParams = urlencode({\"title\": \"파이썬\", \n",
    "                         \"manageCd\": \"MA\", \n",
    "                         \"numOfRows\": str(5),\n",
    "                         \"pageNo\": str(10)})\n",
    "\n",
    "url = _url + \"?serviceKey=\" + serviceKey + \"&\" + \"serviceKey=\" + \"&\" + queryParams\n",
    "print(url)"
   ]
  },
  {
   "cell_type": "code",
   "execution_count": 20,
   "id": "afcf28c5",
   "metadata": {},
   "outputs": [],
   "source": [
    "# import requests\n",
    "# import json\n",
    "\n",
    "# data=requests.get(url)\n",
    "# lib=data.json()\n",
    "# print(lib)"
   ]
  },
  {
   "cell_type": "code",
   "execution_count": 22,
   "id": "2bb7bfee",
   "metadata": {},
   "outputs": [],
   "source": [
    "import lxml\n",
    "import lxml.etree\n",
    "\n",
    "d=requests.get(url).text\n",
    "with open(\"2_assignment.xml\",'w+') as f:\n",
    "    f.write(d)\n",
    "# tree=lxml.etree.fromstring(d.encode('utf-8'))\n",
    "# nodes=tree.xpath('//title')\n",
    "# for node in nodes:\n",
    "#     print (node.text)"
   ]
  },
  {
   "cell_type": "code",
   "execution_count": 24,
   "id": "5b94ed49",
   "metadata": {},
   "outputs": [
    {
     "name": "stdout",
     "output_type": "stream",
     "text": [
      "<?xml version=\"1.0\" encoding=\"UTF-8\" standalone=\"yes\"?><response><header><resultCode>00</resultCode><resultMsg>NORMAL SERVICE.</resultMsg></header><body><items><item><appendixYn>N</appendixYn><author>알 스웨이가트 지음 ;트랜지스터팩토리 옮김</author><bookKey>5343756733</bookKey><callNo>005.133-ㅅ698ㅍ</callNo><controlNo>KMO201702291</controlNo><isbn>9791187431046</isbn><libName>강남도서관</libName><manageCode>MA</manageCode><pubYear>2017</pubYear><publisher>스포트라잇북</publisher><regNo>EMA000251588</regNo><rnum>46</rnum><shelfLocName>[강남]4층 종합자료실</shelfLocName><speciesKey>5343756730</speciesKey><title>파이썬 프로그래밍으로 지루한 작업 자동화하기</title></item><item><appendixYn>N</appendixYn><author>Simon Monk 지음 ;배장열 옮김</author><bookKey>5306882716</bookKey><callNo>005.11-ㅁ628ㄹ</callNo><controlNo>KMO201602862</controlNo><isbn>9791185890487</isbn><libName>강남도서관</libName><manageCode>MA</manageCode><pubYear>2016</pubYear><publisher>Jpub(제이펍)</publisher><regNo>EMA000244485</regNo><rnum>47</rnum><shelfLocName>[강남]4층 종합자료실</shelfLocName><speciesKey>5306882711</speciesKey><title>(파이썬으로 시작하는) 라즈베리 파이 프로그래밍</title></item><item><appendixYn>N</appendixYn><author>브렛 슬라킨 지음;김형철 옮김</author><bookKey>5308905493</bookKey><callNo>005.135-ㅅ738ㅍ</callNo><controlNo>KMO201603752</controlNo><isbn>9791186978825</isbn><libName>강남도서관</libName><manageCode>MA</manageCode><pubYear>2016</pubYear><publisher>길벗</publisher><regNo>EMA000245268</regNo><rnum>48</rnum><shelfLocName>[강남]4층 종합자료실</shelfLocName><speciesKey>5308905490</speciesKey><title>파이썬 코딩의 기술 : 똑똑하게 코딩하는 법</title></item><item><appendixYn>N</appendixYn><author>마이클 보울즈 지음 ;정동식 옮김</author><bookKey>5304096086</bookKey><callNo>004.73-ㅂ866ㅁ</callNo><controlNo>KMO201601288</controlNo><isbn>9791186697061</isbn><libName>강남도서관</libName><manageCode>MA</manageCode><pubYear>2015</pubYear><publisher>BJpublic(비제이퍼블릭)</publisher><regNo>EMA000243419</regNo><rnum>49</rnum><shelfLocName>[강남]4서고(종합실직원문의)</shelfLocName><speciesKey>5304096084</speciesKey><title>머신 러닝 인 파이썬  : 파이썬을 활용한, 예측분석을 위한 기계 학습</title></item><item><appendixYn>N</appendixYn><author>조인석 지음</author><bookKey>5301985060</bookKey><callNo>005.135-ㅈ668ㅍ</callNo><controlNo>KMO201600922</controlNo><isbn>9788983798879</isbn><libName>강남도서관</libName><manageCode>MA</manageCode><pubYear>2016</pubYear><publisher>혜지원</publisher><regNo>EMA000242676</regNo><rnum>50</rnum><shelfLocName>[강남]4층 종합자료실</shelfLocName><speciesKey>5301985056</speciesKey><title>(입문부터 실무까지 한 방에 끝내는)파이썬 프로그래밍 : 실무 경험을 바탕으로 한 선배 개발자의 최고의 멘토링</title></item></items><numOfRows>5</numOfRows><pageNo>10</pageNo><totalCount>160</totalCount></body></response>\n"
     ]
    }
   ],
   "source": [
    "!type \"2_assignment.xml\""
   ]
  },
  {
   "cell_type": "code",
   "execution_count": 25,
   "id": "59b96918",
   "metadata": {},
   "outputs": [
    {
     "name": "stdout",
     "output_type": "stream",
     "text": [
      "Overwriting src/ds0_open_lib_book_list.py\n"
     ]
    }
   ],
   "source": [
    "%%writefile src/ds0_open_lib_book_list.py\n",
    "\n",
    "import requests\n",
    "from urllib.parse import urlencode, quote_plus\n",
    "import os\n",
    "import mylib\n",
    "import lxml\n",
    "import lxml.etree\n",
    "\n",
    "\n",
    "def doIt():\n",
    "    keyPath=os.path.join(os.getcwd(), 'src', 'key.properties')\n",
    "    key=mylib.getKey(keyPath)\n",
    "\n",
    "    _url = \"http://openapi-lib.sen.go.kr/openapi/service/lib/openApi\"\n",
    "    serviceKey = key[\"gokr2\"]\n",
    "    queryParams = urlencode({\"title\": \"파이썬\", \n",
    "                         \"manageCd\": \"MB\", \n",
    "                         \"numOfRows\": str(5),\n",
    "                         \"pageNo\": str(10)})\n",
    "\n",
    "    url = _url + \"?serviceKey=\" + serviceKey + \"&\" + \"serviceKey=\" + \"&\" + queryParams\n",
    "    \n",
    "    data=requests.get(url).text\n",
    "    \n",
    "    with open(\"2_assignment.xml\",'w+') as f:\n",
    "        f.write(data)\n",
    "if __name__ == \"__main__\":\n",
    "    doIt()\n"
   ]
  },
  {
   "cell_type": "code",
   "execution_count": 26,
   "id": "39e0f28f",
   "metadata": {},
   "outputs": [],
   "source": [
    "!python src/ds0_open_lib_book_list.py"
   ]
  },
  {
   "cell_type": "code",
   "execution_count": null,
   "id": "ebb80dec",
   "metadata": {},
   "outputs": [],
   "source": []
  }
 ],
 "metadata": {
  "kernelspec": {
   "display_name": "Python 3",
   "language": "python",
   "name": "python3"
  },
  "language_info": {
   "codemirror_mode": {
    "name": "ipython",
    "version": 3
   },
   "file_extension": ".py",
   "mimetype": "text/x-python",
   "name": "python",
   "nbconvert_exporter": "python",
   "pygments_lexer": "ipython3",
   "version": "3.8.8"
  }
 },
 "nbformat": 4,
 "nbformat_minor": 5
}
