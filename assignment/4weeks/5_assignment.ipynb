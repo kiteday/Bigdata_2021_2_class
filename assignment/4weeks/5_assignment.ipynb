{
 "cells": [
  {
   "cell_type": "markdown",
   "id": "4d9265e8",
   "metadata": {},
   "source": [
    "## 문제 \n",
    "<br>\n",
    "<strong>\n",
    "아래 데이터를 RDD로 만들고, 성적의 합계 및 평균을 계산하세요.\n",
    "\n",
    "문항별로 RDD를 만들지 말고, 하나의 RDD만을 생성하고, 이를 변형해서 문제를 푸세요.\n",
    "</strong>\n",
    "\n",
    "```\n",
    "이름 | 과목 | 점수\n",
    "\n",
    "-----|-----|-----\n",
    "\n",
    "김하나 | English | 100\n",
    "\n",
    "김하나 | Math | 80\n",
    "\n",
    "임하나 | English | 70\n",
    "\n",
    "임하나 | Math | 100\n",
    "\n",
    "김갑돌 | English | 82.3\n",
    "\n",
    "김갑돌 | Math | 98.5\n",
    "```"
   ]
  },
  {
   "cell_type": "code",
   "execution_count": 1,
   "id": "a2c28235",
   "metadata": {},
   "outputs": [],
   "source": [
    "import findspark\n",
    "findspark.init()"
   ]
  },
  {
   "cell_type": "code",
   "execution_count": 2,
   "id": "9431df8a",
   "metadata": {},
   "outputs": [],
   "source": [
    "import pyspark\n",
    "\n",
    "myConf=pyspark.SparkConf()\n",
    "spark = pyspark.sql.SparkSession\\\n",
    "    .builder\\\n",
    "    .master(\"local\")\\\n",
    "    .appName(\"myApp\")\\\n",
    "    .config(conf=myConf)\\\n",
    "    .getOrCreate()"
   ]
  },
  {
   "cell_type": "code",
   "execution_count": 3,
   "id": "9f87c440",
   "metadata": {},
   "outputs": [],
   "source": [
    "mRdd = ['김하나, English, 100.0',\n",
    "         '김하나, Math, 80.0',\n",
    "         '임하나, English, 70.0',\n",
    "         '임하나, Math, 100.0',\n",
    "         '김갑돌, English, 82.3',\n",
    "         '김갑돌, Math, 98.5']"
   ]
  },
  {
   "cell_type": "code",
   "execution_count": 4,
   "id": "38cd92a2",
   "metadata": {},
   "outputs": [],
   "source": [
    "mark = spark.sparkContext.parallelize(mRdd)"
   ]
  },
  {
   "cell_type": "code",
   "execution_count": 5,
   "id": "caa0e3aa",
   "metadata": {},
   "outputs": [],
   "source": [
    "marksByKey= mark.map(lambda x:x.split(','))"
   ]
  },
  {
   "cell_type": "code",
   "execution_count": 6,
   "id": "443fe12b",
   "metadata": {},
   "outputs": [
    {
     "name": "stdout",
     "output_type": "stream",
     "text": [
      "[['김하나', ' English', ' 100.0'], ['김하나', ' Math', ' 80.0'], ['임하나', ' English', ' 70.0'], ['임하나', ' Math', ' 100.0'], ['김갑돌', ' English', ' 82.3']]\n"
     ]
    }
   ],
   "source": [
    "print(marksByKey.take(5))"
   ]
  },
  {
   "cell_type": "markdown",
   "id": "3a0c765d",
   "metadata": {},
   "source": [
    "### 문제 3-1: 이름으로 합계를 구해보자. 올바른 출력은 다음과 같다.\n",
    "```\n",
    "\n",
    "'임하나' 170.0\n",
    "\n",
    "'김하나' 180.0\n",
    "\n",
    "'김갑돌' 180.8\n",
    "\n",
    "```"
   ]
  },
  {
   "cell_type": "code",
   "execution_count": 7,
   "id": "30082b07",
   "metadata": {},
   "outputs": [],
   "source": [
    "marksByKey1 = mark\\\n",
    "        .map(lambda x : x.split(','))\\\n",
    "        .map(lambda x: (x[0], (float)(x[2])))\\\n",
    "        .reduceByKey(lambda x,y: x+y)\\\n",
    "        .sortByKey(False)\\\n",
    "        .collect()"
   ]
  },
  {
   "cell_type": "code",
   "execution_count": 8,
   "id": "6f82cd65",
   "metadata": {},
   "outputs": [
    {
     "name": "stdout",
     "output_type": "stream",
     "text": [
      "'임하나' 170.0\n",
      "'김하나' 180.0\n",
      "'김갑돌' 180.8\n"
     ]
    }
   ],
   "source": [
    "for i in marksByKey1:\n",
    "    print(f\"'{i[0]}' {i[1]}\")"
   ]
  },
  {
   "cell_type": "markdown",
   "id": "ae96847d",
   "metadata": {},
   "source": [
    "### 문제 3-2: 과목으로 합계를 계산해 보자. 출력은 다음과 같이 나와야 한다.\n",
    "\n",
    "\n",
    "\n",
    "```\n",
    "\n",
    "'English' 252.3\n",
    "\n",
    "'Math' 278.5\n",
    "\n",
    "```\n",
    "\n"
   ]
  },
  {
   "cell_type": "code",
   "execution_count": 9,
   "id": "18ab63d8",
   "metadata": {},
   "outputs": [],
   "source": [
    "marksByKey2 = mark\\\n",
    "        .map(lambda x : x.split())\\\n",
    "        .map(lambda x : (x[1], float(x[2])))\\\n",
    "        .reduceByKey(lambda x,y : x+y)\\\n",
    "        .collect()"
   ]
  },
  {
   "cell_type": "code",
   "execution_count": 14,
   "id": "24bebd49",
   "metadata": {},
   "outputs": [
    {
     "name": "stdout",
     "output_type": "stream",
     "text": [
      "'English,' 252.3\n",
      "'Math,' 278.5\n"
     ]
    }
   ],
   "source": [
    "for i in marksByKey2:\n",
    "    print(f\"'{i[0]}' {i[1]}\")"
   ]
  },
  {
   "cell_type": "markdown",
   "id": "0f44c10e",
   "metadata": {},
   "source": [
    "### 문제 3-3: 이름으로 합계과 개수를 구해보자. 출력은 다음과 같이 계산된다.\n",
    "\n",
    "\n",
    "\n",
    "```\n",
    "\n",
    "'임하나' (170.0, 2)\n",
    "\n",
    "'김하나' (180.0, 2)\n",
    "\n",
    "'김갑돌' (180.8, 2)\n",
    "\n",
    "```"
   ]
  },
  {
   "cell_type": "code",
   "execution_count": 11,
   "id": "e6d86d74",
   "metadata": {},
   "outputs": [],
   "source": [
    "marksByKey3 = mark\\\n",
    "                .map(lambda x : x.split(','))\\\n",
    "                .map(lambda x : (x[0], float(x[2])))\\\n",
    "                .sortByKey(False)\\\n",
    "                .combineByKey(lambda value: (value,1),\n",
    "                             lambda x,value: (x[0]+value, x[1]+1),\n",
    "                             lambda x,y: (x[0]+y[0], x[1]+y[1]))\\\n",
    "                "
   ]
  },
  {
   "cell_type": "code",
   "execution_count": 12,
   "id": "bec124ff",
   "metadata": {},
   "outputs": [
    {
     "name": "stdout",
     "output_type": "stream",
     "text": [
      "'임하나' (170.0, 2)\n",
      "'김하나' (180.0, 2)\n",
      "'김갑돌' (180.8, 2)\n"
     ]
    }
   ],
   "source": [
    "for i in marksByKey3.collect():\n",
    "    print(f\"'{i[0]}' {i[1]}\")"
   ]
  },
  {
   "cell_type": "markdown",
   "id": "eb14fe05",
   "metadata": {},
   "source": [
    "### 문제 3-4: 이름으로 평균을 계산해 보자. 앞서 3-3에서 사용했던 결과를 활용하고, 올바른 출력은 다음과 같다.\n",
    "\n",
    "\n",
    "\n",
    "```\n",
    "\n",
    "'임하나' 85.0\n",
    "\n",
    "'김하나' 90.0\n",
    "\n",
    "'김갑돌' 90.4\n",
    "\n",
    "```\n",
    "\n"
   ]
  },
  {
   "cell_type": "code",
   "execution_count": 13,
   "id": "fcd36e22",
   "metadata": {
    "scrolled": true
   },
   "outputs": [
    {
     "name": "stdout",
     "output_type": "stream",
     "text": [
      "'임하나' 85.0\n",
      "'김하나' 90.0\n",
      "'김갑돌' 90.4\n"
     ]
    }
   ],
   "source": [
    "marksByKey4 =marksByKey3.map(lambda x: (x[0],x[1][0]/x[1][1]))\n",
    "\n",
    "for i in marksByKey4.collect():\n",
    "    print(f\"'{i[0]}' {i[1]}\")"
   ]
  },
  {
   "cell_type": "code",
   "execution_count": null,
   "id": "75ad2cb6",
   "metadata": {},
   "outputs": [],
   "source": []
  }
 ],
 "metadata": {
  "kernelspec": {
   "display_name": "Python 3",
   "language": "python",
   "name": "python3"
  },
  "language_info": {
   "codemirror_mode": {
    "name": "ipython",
    "version": 3
   },
   "file_extension": ".py",
   "mimetype": "text/x-python",
   "name": "python",
   "nbconvert_exporter": "python",
   "pygments_lexer": "ipython3",
   "version": "3.8.8"
  }
 },
 "nbformat": 4,
 "nbformat_minor": 5
}
