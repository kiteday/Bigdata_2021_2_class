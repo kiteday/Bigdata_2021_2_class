{
 "cells": [
  {
   "cell_type": "markdown",
   "id": "80cded39",
   "metadata": {},
   "source": [
    "# 문제 1 :오픈API를 통해 데이터를 5천 ~ 1만 건 정도 수집해서 파일로 저장한다 (초과해도 좋다).\n",
    "\n",
    "열린데이터, 공공데이터 또는 (할 수 있다면) 트위터와 같은 SNS, 댓글 등 적합한 소스를 자신이 선택한다.\n",
    "\n",
    "과정의 후반으로 가서, 이 데이터를 분석하는 과제가 주어지게 된다.\n",
    "\n",
    "프로그램에서 몇 건을 읽었는지와 마지막 줄을 화면 출력한다.\n",
    "\n",
    "!dir 명령어로 파일이 존재하는지 출력한다. 1만 건 정도 저장되었으니 파일의 크기가 적당한지 가늠해보자\n",
    "\n"
   ]
  },
  {
   "cell_type": "markdown",
   "id": "fc9e9a77",
   "metadata": {},
   "source": [
    "## 서울시 개인서비스 요금 정보\n",
    "\n",
    "개인서비스요금정보\n",
    "http://openAPI.seoul.go.kr:8088/(인증키)/xml/IndividualServiceChargeService/1/5/\n",
    "\n",
    "* 요청인자 <br>\n",
    "KEY\tString(필수)\t인증키\t<br>\n",
    "TYPE\tString(필수)\t요청파일타입<br>\n",
    "SERVICE\tString(필수)\t서비스명\tenergyUseDataSummaryInfo<br>\n",
    "START_INDEX\tINTEGER(필수)\t요청시작위치\t<br>\n",
    "END_INDEX\tINTEGER(필수)\t요청종료위치\t<br>\n",
    "GU_NM\tSTRING(선택)\t구명\t"
   ]
  },
  {
   "cell_type": "code",
   "execution_count": 50,
   "id": "e7be2af0",
   "metadata": {},
   "outputs": [],
   "source": [
    "import os\n",
    "from src import mylib\n",
    "\n",
    "keyPath = os.path.join(os.getcwd(), 'src', 'key.properties')\n",
    "key = mylib.getKey(keyPath)"
   ]
  },
  {
   "cell_type": "code",
   "execution_count": 51,
   "id": "708cb9c2",
   "metadata": {},
   "outputs": [],
   "source": [
    "KEY = key['dataseoul']\n",
    "TYPE = 'json'\n",
    "SERVICE = 'IndividualServiceChargeService'\n",
    "START_INDEX = str(1)\n",
    "END_INDEX = str(5)"
   ]
  },
  {
   "cell_type": "code",
   "execution_count": 52,
   "id": "153aebf4",
   "metadata": {},
   "outputs": [],
   "source": [
    "_url = 'http://openAPI.seoul.go.kr:8088'\n",
    "url = '/'.join([_url, KEY, TYPE, SERVICE,START_INDEX, END_INDEX])"
   ]
  },
  {
   "cell_type": "code",
   "execution_count": 53,
   "id": "4a281d33",
   "metadata": {},
   "outputs": [
    {
     "name": "stdout",
     "output_type": "stream",
     "text": [
      "http://openAPI.seoul.go.kr:8088/62436e77746b69743237566f4f6f6f/json/IndividualServiceChargeService/1/5\n"
     ]
    }
   ],
   "source": [
    "print(url)"
   ]
  },
  {
   "cell_type": "code",
   "execution_count": 59,
   "id": "49cb026d",
   "metadata": {
    "scrolled": true
   },
   "outputs": [
    {
     "name": "stdout",
     "output_type": "stream",
     "text": [
      "{\"IndividualServiceChargeService\":{\"list_total_count\":7865,\"RESULT\":{\"CODE\":\"INFO-000\",\"MESSAGE\":\"정상 처리되었습니다\"},\"row\":[{\"BSSH_NM\":\"김가네\",\"BSSH_SEQ_NO\":1.5154776077E12,\"INDUTY_DESC\":\"한식\",\"TLPHON_NO_CN\":\"02-888-7269\",\"AR\":\"\",\"LEGALDONG_NM\":\"봉천동\",\"ADRES_CN2\":\"서울특별시 관악구 관악로 152 (봉천동)\",\"PRDLST_CODE_SE\":\"1418622761372\",\"PRDLST_DESC\":\"된장찌개 백반\",\"PC\":6500.0,\"CHCK_MD\":\"2021-09-15 00:00:00.0\",\"GU_NM\":\"관악구\"},{\"BSSH_NM\":\"전주식당\",\"BSSH_SEQ_NO\":1.501655118455E12,\"INDUTY_DESC\":\"한식\",\"TLPHON_NO_CN\":\"02-873-0157\",\"AR\":\"\",\"LEGALDONG_NM\":\"봉천동\",\"ADRES_CN2\":\"서울특별시 관악구 관악로14길 105 (봉천동)\",\"PRDLST_CODE_SE\":\"1418622761384\",\"PRDLST_DESC\":\"김치찌개 백반\",\"PC\":7000.0,\"CHCK_MD\":\"2021-09-15 00:00:00.0\",\"GU_NM\":\"관악구\"},{\"BSSH_NM\":\"전주식당\",\"BSSH_SEQ_NO\":1.501655118455E12,\"INDUTY_DESC\":\"한식\",\"TLPHON_NO_CN\":\"02-873-0157\",\"AR\":\"\",\"LEGALDONG_NM\":\"봉천동\",\"ADRES_CN2\":\"서울특별시 관악구 관악로14길 105 (봉천동)\",\"PRDLST_CODE_SE\":\"1418622761373\",\"PRDLST_DESC\":\"삼겹살\",\"PC\":13000.0,\"CHCK_MD\":\"2021-09-15 00:00:00.0\",\"GU_NM\":\"관악구\"},{\"BSSH_NM\":\"전주식당\",\"BSSH_SEQ_NO\":1.501655118455E12,\"INDUTY_DESC\":\"한식\",\"TLPHON_NO_CN\":\"02-873-0157\",\"AR\":\"\",\"LEGALDONG_NM\":\"봉천동\",\"ADRES_CN2\":\"서울특별시 관악구 관악로14길 105 (봉천동)\",\"PRDLST_CODE_SE\":\"1418622761372\",\"PRDLST_DESC\":\"된장찌개 백반\",\"PC\":7000.0,\"CHCK_MD\":\"2021-09-15 00:00:00.0\",\"GU_NM\":\"관악구\"},{\"BSSH_NM\":\"풍년집\",\"BSSH_SEQ_NO\":1.501655033441E12,\"INDUTY_DESC\":\"한식\",\"TLPHON_NO_CN\":\"02-521-1627\",\"AR\":\"\",\"LEGALDONG_NM\":\"봉천동\",\"ADRES_CN2\":\"서울특별시 관악구 남부순환로230길 32 (봉천동)\",\"PRDLST_CODE_SE\":\"1418622761384\",\"PRDLST_DESC\":\"김치찌개 백반\",\"PC\":8000.0,\"CHCK_MD\":\"2021-09-15 00:00:00.0\",\"GU_NM\":\"관악구\"}]}}\n"
     ]
    }
   ],
   "source": [
    "import requests\n",
    "data=requests.get(url).text\n",
    "print(data)"
   ]
  },
  {
   "cell_type": "code",
   "execution_count": 61,
   "id": "b24fa1a6",
   "metadata": {},
   "outputs": [
    {
     "data": {
      "text/plain": [
       "7865"
      ]
     },
     "execution_count": 61,
     "metadata": {},
     "output_type": "execute_result"
    }
   ],
   "source": [
    "r=requests.get(url)\n",
    "count= r.json()\n",
    "count['IndividualServiceChargeService']['list_total_count']"
   ]
  },
  {
   "cell_type": "code",
   "execution_count": 71,
   "id": "4186d415",
   "metadata": {},
   "outputs": [
    {
     "name": "stdout",
     "output_type": "stream",
     "text": [
      "Overwriting src/ds0_3_assingment.py\n"
     ]
    }
   ],
   "source": [
    "%%writefile src/ds0_3_assingment.py\n",
    "\n",
    "import os\n",
    "import mylib\n",
    "import requests\n",
    "\n",
    "def doIt():\n",
    "    keyPath = os.path.join(os.getcwd(), 'src', 'key.properties')\n",
    "    key = mylib.getKey(keyPath)\n",
    "    \n",
    "    KEY = key['dataseoul']\n",
    "    TYPE = 'json'\n",
    "    SERVICE = 'IndividualServiceChargeService'\n",
    "    START_INDEX = str(1)\n",
    "    END_INDEX = str(5)\n",
    "    \n",
    "    _url = 'http://openAPI.seoul.go.kr:8088'\n",
    "    url = '/'.join([_url, KEY, TYPE, SERVICE,START_INDEX, END_INDEX])\n",
    "    \n",
    "    r=requests.get(url)\n",
    "    count= r.json()\n",
    "    print(count['IndividualServiceChargeService']['list_total_count'])\n",
    "    \n",
    "if __name__==\"__main__\":\n",
    "    doIt()"
   ]
  },
  {
   "cell_type": "code",
   "execution_count": 1,
   "id": "31aa08a6",
   "metadata": {},
   "outputs": [
    {
     "name": "stdout",
     "output_type": "stream",
     "text": [
      " C 드라이브의 볼륨에는 이름이 없습니다.\n",
      " 볼륨 일련 번호: 164B-8FC0\n",
      "\n",
      " C:\\Users\\user\\.jupyter\\src 디렉터리\n",
      "\n",
      "2021-09-16  오후 10:50               600 ds0_3_assingment.py\n",
      "               1개 파일                 600 바이트\n",
      "               0개 디렉터리  31,290,556,416 바이트 남음\n"
     ]
    }
   ],
   "source": [
    "!dir src\\ds0_3_assingment*"
   ]
  },
  {
   "cell_type": "code",
   "execution_count": 73,
   "id": "56364458",
   "metadata": {},
   "outputs": [
    {
     "name": "stdout",
     "output_type": "stream",
     "text": [
      "7865\n"
     ]
    }
   ],
   "source": [
    "!python src\\ds0_3_assingment.py"
   ]
  },
  {
   "cell_type": "markdown",
   "id": "31dec6d0",
   "metadata": {},
   "source": [
    "# 문제 2: 노트북에서 pyspark 실행\n",
    "\n",
    "주피터 노트북을 실행한 후, 셀에서 아래 명령어를 실행하여 spark를 생성하고, 그 버전을 출력하세요.\n",
    "\n",
    "[In] spark.version\n",
    "\n",
    "[Out] '3.x.x'"
   ]
  },
  {
   "cell_type": "code",
   "execution_count": 4,
   "id": "815bf815",
   "metadata": {},
   "outputs": [
    {
     "name": "stdout",
     "output_type": "stream",
     "text": [
      "Python 3.8.8\n"
     ]
    }
   ],
   "source": [
    "!python --version"
   ]
  },
  {
   "cell_type": "code",
   "execution_count": 9,
   "id": "ba131413",
   "metadata": {},
   "outputs": [
    {
     "name": "stdout",
     "output_type": "stream",
     "text": [
      "java 11.0.2 2019-01-15 LTS\n",
      "Java(TM) SE Runtime Environment 18.9 (build 11.0.2+9-LTS)\n",
      "Java HotSpot(TM) 64-Bit Server VM 18.9 (build 11.0.2+9-LTS, mixed mode)\n"
     ]
    }
   ],
   "source": [
    "!java --version"
   ]
  },
  {
   "cell_type": "code",
   "execution_count": 10,
   "id": "374de281",
   "metadata": {},
   "outputs": [
    {
     "name": "stdout",
     "output_type": "stream",
     "text": [
      "javac 11.0.2\n"
     ]
    }
   ],
   "source": [
    "!javac --version"
   ]
  },
  {
   "cell_type": "code",
   "execution_count": 11,
   "id": "8935a2ed",
   "metadata": {},
   "outputs": [
    {
     "name": "stdout",
     "output_type": "stream",
     "text": [
      "3.1.2\n"
     ]
    }
   ],
   "source": [
    "import pyspark\n",
    "print(pyspark.__version__)"
   ]
  },
  {
   "cell_type": "markdown",
   "id": "02cf555e",
   "metadata": {},
   "source": [
    "# 문제 3: 다음 파일을 읽어서 RDD를 생성하고, 5줄을 화면출력하세요.\n",
    "\n",
    "결과가 깨져보인다면, 그 이유를 간단히 적으세요."
   ]
  },
  {
   "cell_type": "markdown",
   "id": "2bf3fe54",
   "metadata": {},
   "source": [
    "### SparkSession 생성"
   ]
  },
  {
   "cell_type": "code",
   "execution_count": 2,
   "id": "54f715ad",
   "metadata": {},
   "outputs": [
    {
     "name": "stdout",
     "output_type": "stream",
     "text": [
      "3.1.2\n"
     ]
    }
   ],
   "source": [
    "import findspark\n",
    "findspark.init()\n",
    "\n",
    "import pyspark\n",
    "print(pyspark.__version__)"
   ]
  },
  {
   "cell_type": "code",
   "execution_count": 5,
   "id": "eaa422b7",
   "metadata": {},
   "outputs": [],
   "source": [
    "import pyspark\n",
    "import os\n",
    "\n",
    "myConf=pyspark.SparkConf()\n",
    "spark = pyspark.sql.SparkSession\\\n",
    "    .builder\\\n",
    "    .master(\"local\")\\\n",
    "    .appName(\"myApp\")\\\n",
    "    .config(conf=myConf)\\\n",
    "    .getOrCreate()"
   ]
  },
  {
   "cell_type": "markdown",
   "id": "4596339d",
   "metadata": {},
   "source": [
    "### RDD로 읽기"
   ]
  },
  {
   "cell_type": "code",
   "execution_count": 6,
   "id": "9d671c95",
   "metadata": {},
   "outputs": [],
   "source": [
    "popRdd = spark.sparkContext\\\n",
    "    .textFile(os.path.join(\"data\",\"경기도 의정부시_인구현황_20210910.csv\"), use_unicode=True)"
   ]
  },
  {
   "cell_type": "code",
   "execution_count": 7,
   "id": "f12332ca",
   "metadata": {},
   "outputs": [
    {
     "data": {
      "text/plain": [
       "['�������,�α���(��),�α���(��),�α���(��),������(��),������(��),������(��),����,�����,������α�,���������,�����μ���,�μ���ȭ��ȣ,�����ͱ�������',\n",
       " '������1��,32292,16538,15754,6.97,3.57,3.4,104.98,19998,1.61,�����ν�,�ο����ǰ�,031-828-2466,2021-09-10',\n",
       " '������2��,31380,15608,15772,6.77,3.37,3.4,98.96,16410,1.91,�����ν�,�ο����ǰ�,031-828-2466,2021-09-10',\n",
       " 'ȣ��1��,36124,17595,18529,7.8,3.8,4,94.96,15653,2.31,�����ν�,�ο����ǰ�,031-828-2466,2021-09-10',\n",
       " 'ȣ��2��,34957,16923,18034,7.54,3.65,3.89,93.84,13683,2.55,�����ν�,�ο����ǰ�,031-828-2466,2021-09-10']"
      ]
     },
     "execution_count": 7,
     "metadata": {},
     "output_type": "execute_result"
    }
   ],
   "source": [
    "popRdd.take(5)"
   ]
  },
  {
   "cell_type": "code",
   "execution_count": 8,
   "id": "e4234b89",
   "metadata": {},
   "outputs": [],
   "source": [
    "agedRdd = spark.sparkContext\\\n",
    "    .textFile(os.path.join(\"data\",\"제주특별자치도 서귀포시_고령화비율및노령화지수현황_20210831.csv\"), use_unicode=True)"
   ]
  },
  {
   "cell_type": "code",
   "execution_count": 9,
   "id": "8a85e618",
   "metadata": {},
   "outputs": [
    {
     "name": "stdout",
     "output_type": "stream",
     "text": [
      "������,�������� �α���,65���̻� �α��� ,14������ �α���,���ȭ����,���ȭ����,�����ͱ�������\n",
      "2012,154057,25826,22861,16.76,112.97,2021-08-31\n",
      "2013,155641,26936,22393,17.31,120.29,2021-08-31\n",
      "2014,158512,27877,22058,17.59,126.38,2021-08-31\n",
      "2015,164519,28979,22362,17.61,129.59,2021-08-31\n"
     ]
    }
   ],
   "source": [
    "for i in agedRdd.take(5):\n",
    "    print(i)"
   ]
  },
  {
   "cell_type": "markdown",
   "id": "322378e5",
   "metadata": {},
   "source": [
    "다운받은 파일에서 한글이 깨지지 때문에 출력결과 한글이 깨지게 됨"
   ]
  },
  {
   "cell_type": "code",
   "execution_count": 10,
   "id": "2006040f",
   "metadata": {},
   "outputs": [],
   "source": [
    "popRddBin = spark.sparkContext.binaryFiles(os.path.join(\"data\",\"경기도 의정부시_인구현황_20210910.csv\"))"
   ]
  },
  {
   "cell_type": "code",
   "execution_count": 11,
   "id": "7ecd0b11",
   "metadata": {},
   "outputs": [],
   "source": [
    "_my = popRddBin.map(lambda x : x[1].decode('euc-kr'))"
   ]
  },
  {
   "cell_type": "code",
   "execution_count": 12,
   "id": "01b39835",
   "metadata": {},
   "outputs": [
    {
     "data": {
      "text/plain": [
       "['행정기관,인구수(계),인구수(남),인구수(여),구성비(계),구성비(남),구성비(여),성비,세대수,세대당인구,관리기관명,관리부서명,부서전화번호,데이터기준일자\\r\\n의정부1동,32292,16538,15754,6.97,3.57,3.4,104.98,19998,1.61,의정부시,민원여권과,031-828-2466,2021-09-10\\r\\n의정부2동,31380,15608,15772,6.77,3.37,3.4,98.96,16410,1.91,의정부시,민원여권과,031-828-2466,2021-09-10\\r\\n호원1동,36124,17595,18529,7.8,3.8,4,94.96,15653,2.31,의정부시,민원여권과,031-828-2466,2021-09-10\\r\\n호원2동,34957,16923,18034,7.54,3.65,3.89,93.84,13683,2.55,의정부시,민원여권과,031-828-2466,2021-09-10\\r\\n장암동,20314,9714,10600,4.38,2.1,2.29,91.64,8604,2.36,의정부시,민원여권과,031-828-2466,2021-09-10\\r\\n신곡1동,43159,21205,21954,9.31,4.58,4.74,96.59,17990,2.4,의정부시,민원여권과,031-828-2466,2021-09-10\\r\\n신곡2동,47852,23232,24620,10.33,5.01,5.31,94.36,19218,2.49,의정부시,민원여권과,031-828-2466,2021-09-10\\r\\n송산1동,42817,21276,21541,9.24,4.59,4.65,98.77,18811,2.28,의정부시,민원여권과,031-828-2466,2021-09-10\\r\\n송산2동,33565,16601,16964,7.24,3.58,3.66,97.86,13216,2.54,의정부시,민원여권과,031-828-2466,2021-09-10\\r\\n송산3동,46892,22772,24120,10.12,4.91,5.21,94.41,17926,2.62,의정부시,민원여권과,031-828-2466,2021-09-10\\r\\n자금동,27087,13270,13817,5.85,2.86,2.98,96.04,11868,2.28,의정부시,민원여권과,031-828-2466,2021-09-10\\r\\n가능동,25990,12974,13016,5.61,2.8,2.81,99.68,12492,2.08,의정부시,민원여권과,031-828-2466,2021-09-10\\r\\n흥선동,19176,9769,9407,4.14,2.11,2.03,103.85,9380,2.04,의정부시,민원여권과,031-828-2466,2021-09-10\\r\\n녹양동,21768,10872,10896,4.7,2.35,2.35,99.78,9556,2.28,의정부시,민원여권과,031-828-2466,2021-09-10\\r\\n']"
      ]
     },
     "execution_count": 12,
     "metadata": {},
     "output_type": "execute_result"
    }
   ],
   "source": [
    "_my.take(1)"
   ]
  },
  {
   "cell_type": "code",
   "execution_count": 13,
   "id": "075e5546",
   "metadata": {},
   "outputs": [],
   "source": [
    "popRddBin2 = spark.sparkContext.binaryFiles(os.path.join(\"data\", \"제주특별자치도 서귀포시_고령화비율및노령화지수현황_20210831.csv\"))"
   ]
  },
  {
   "cell_type": "code",
   "execution_count": 14,
   "id": "dc832ddc",
   "metadata": {},
   "outputs": [],
   "source": [
    "_my2 = popRddBin2.map(lambda x : x[1].decode('euc-kr'))"
   ]
  },
  {
   "cell_type": "code",
   "execution_count": 15,
   "id": "b3b8cf95",
   "metadata": {},
   "outputs": [
    {
     "data": {
      "text/plain": [
       "['연도별,서귀포시 인구수,65세이상 인구수 ,14세이하 인구수,고령화비율,노령화지수,데이터기준일자\\r\\n2012,154057,25826,22861,16.76,112.97,2021-08-31\\r\\n2013,155641,26936,22393,17.31,120.29,2021-08-31\\r\\n2014,158512,27877,22058,17.59,126.38,2021-08-31\\r\\n2015,164519,28979,22362,17.61,129.59,2021-08-31\\r\\n2016,170932,30030,23044,17.57,130.32,2021-08-31\\r\\n2017,173302,30545,23300,17.63,131.09,2021-08-31\\r\\n2018,181245,32394,24013,17.87,134.9,2021-08-31\\r\\n2019,181584,33707,23707,18.56,142.18,2021-08-31\\r\\n2020,181059,34456,23579,19.03,146.13,2021-08-31\\r\\n2021,183015,36353,23759,19.86,141.12,2021-08-31\\r\\n']"
      ]
     },
     "execution_count": 15,
     "metadata": {},
     "output_type": "execute_result"
    }
   ],
   "source": [
    "_my2.take(1)"
   ]
  },
  {
   "cell_type": "code",
   "execution_count": null,
   "id": "2257f01a",
   "metadata": {},
   "outputs": [],
   "source": []
  }
 ],
 "metadata": {
  "kernelspec": {
   "display_name": "Python 3",
   "language": "python",
   "name": "python3"
  },
  "language_info": {
   "codemirror_mode": {
    "name": "ipython",
    "version": 3
   },
   "file_extension": ".py",
   "mimetype": "text/x-python",
   "name": "python",
   "nbconvert_exporter": "python",
   "pygments_lexer": "ipython3",
   "version": "3.8.8"
  }
 },
 "nbformat": 4,
 "nbformat_minor": 5
}
