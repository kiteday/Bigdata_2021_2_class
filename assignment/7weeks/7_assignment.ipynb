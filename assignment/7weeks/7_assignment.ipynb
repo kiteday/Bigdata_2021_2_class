{
 "cells": [
  {
   "cell_type": "markdown",
   "id": "490e3da7",
   "metadata": {},
   "source": [
    "# 7주: zscore, cdf 계산\n",
    "성적데이터는 n이 적지만, 정규분포를 이룬다고 가정하자.\n",
    "\n",
    "* 1-1 성적데이터로 DataFrame을 생성.\n",
    "\n",
    "* 1-2 zscore 컬럼을 생성.\n",
    "\n",
    "zscore를 계산하려면, 평균과 표준편차를 알아야 한다.\n",
    "\n",
    "계산식에 F함수를 직접 사용하면 오류가 발생한다. 따로 평균과 표준편차를 구해서 계산식에서 사용해야 한다.\n",
    "\n",
    "\n",
    "\n",
    "* 1-3 cdf 컬럼을 생성.\n",
    "\n",
    "scipy.stats.norm.cdf() 함수는 데이터타입을 float로 맞추어 주어야 한다.\n",
    "\n",
    "cdf는 평균=0, 표준편차=1을 기본 값으로 누적확률을 계산한다."
   ]
  },
  {
   "cell_type": "markdown",
   "id": "0ff5fefd",
   "metadata": {},
   "source": [
    "```\n",
    "marks=[\n",
    "    \"김하나, English, 100\",\n",
    "    \"김하나, Math, 80\",\n",
    "    \"임하나, English, 70\",\n",
    "    \"임하나, Math, 100\",\n",
    "    \"김갑돌, English, 82.3\",\n",
    "    \"김갑돌, Math, 98.5\"\n",
    "]\n",
    "```"
   ]
  },
  {
   "cell_type": "code",
   "execution_count": 1,
   "id": "e9d74039",
   "metadata": {},
   "outputs": [],
   "source": [
    "import findspark\n",
    "findspark.init()"
   ]
  },
  {
   "cell_type": "code",
   "execution_count": 2,
   "id": "be4f801e",
   "metadata": {},
   "outputs": [],
   "source": [
    "import pyspark\n",
    "\n",
    "myConf=pyspark.SparkConf()\n",
    "spark = pyspark.sql.SparkSession.builder\\\n",
    "    .master(\"local\")\\\n",
    "    .appName(\"7\")\\\n",
    "    .config(conf=myConf)\\\n",
    "    .getOrCreate()"
   ]
  },
  {
   "cell_type": "code",
   "execution_count": 3,
   "id": "bab62930",
   "metadata": {},
   "outputs": [],
   "source": [
    "import os\n",
    "import sys\n",
    "\n",
    "os.environ[\"PYSPARK_PYTHON\"]=\"C:\\\\Users\\\\SW\\\\anaconda3\\\\python.exe\"\n",
    "os.environ[\"PYSPARK_DRIVER_PYTHON\"]=\"C:\\\\Users\\\\SW\\\\anaconda3\\\\python.exe\"\n",
    "os.environ[\"JAVA_HOME\"]=\"C:\\\\Program Files\\\\Java\\\\jdk-11.0.11\\\\bin\"\n",
    "\n",
    "os.environ[\"SPARK_HOME\"]=\"C:\\\\spark\\\\spark-3.1.2-bin-hadoop3.2\"\n",
    "os.environ[\"PYLIB\"]=\"C:\\\\spark\\\\spark-3.1.2-bin-hadoop3.2\\\\python\\\\lib\"\n",
    "\n",
    "sys.path.insert(0,os.path.join(os.environ[\"PYLIB\"],\"py4j-0.10.9-src.zip\"))\n",
    "sys.path.insert(0,os.path.join(os.environ[\"PYLIB\"],\"pyspark.zip\"))"
   ]
  },
  {
   "cell_type": "code",
   "execution_count": 4,
   "id": "81684ea0",
   "metadata": {},
   "outputs": [],
   "source": [
    "marks=[\n",
    "    \"김하나, English, 100\",\n",
    "    \"김하나, Math, 80\",\n",
    "    \"임하나, English, 70\",\n",
    "    \"임하나, Math, 100\",\n",
    "    \"김갑돌, English, 82.3\",\n",
    "    \"김갑돌, Math, 98.5\"\n",
    "]"
   ]
  },
  {
   "cell_type": "markdown",
   "id": "9d974338",
   "metadata": {},
   "source": [
    "### 문제1-1 : 성적데이터로 DataFrame을 생성"
   ]
  },
  {
   "cell_type": "code",
   "execution_count": 5,
   "id": "7a0c0e16",
   "metadata": {},
   "outputs": [],
   "source": [
    "_marksRdd=spark.sparkContext.parallelize(marks).map(lambda x: x.split(','))"
   ]
  },
  {
   "cell_type": "code",
   "execution_count": 6,
   "id": "90459502",
   "metadata": {},
   "outputs": [],
   "source": [
    "_marksDf=spark.createDataFrame(_marksRdd, schema=[\"name\", \"subject\", \"mark\"])"
   ]
  },
  {
   "cell_type": "code",
   "execution_count": 7,
   "id": "61a4a1bc",
   "metadata": {},
   "outputs": [
    {
     "name": "stdout",
     "output_type": "stream",
     "text": [
      "root\n",
      " |-- name: string (nullable = true)\n",
      " |-- subject: string (nullable = true)\n",
      " |-- mark: string (nullable = true)\n",
      "\n"
     ]
    }
   ],
   "source": [
    "_marksDf.printSchema()"
   ]
  },
  {
   "cell_type": "code",
   "execution_count": 8,
   "id": "a51f3fe5",
   "metadata": {
    "scrolled": true
   },
   "outputs": [],
   "source": [
    "from pyspark.sql import functions as F\n",
    "from pyspark.sql.types import FloatType, StringType\n",
    "\n",
    "_marksDf = _marksDf.withColumn('score', _marksDf['mark'].cast(FloatType()))\n",
    "_marksDf=_marksDf.drop('mark')"
   ]
  },
  {
   "cell_type": "code",
   "execution_count": 9,
   "id": "ba5b515c",
   "metadata": {
    "scrolled": true
   },
   "outputs": [
    {
     "name": "stdout",
     "output_type": "stream",
     "text": [
      "root\n",
      " |-- name: string (nullable = true)\n",
      " |-- subject: string (nullable = true)\n",
      " |-- mark: float (nullable = true)\n",
      "\n"
     ]
    }
   ],
   "source": [
    "_marksDf=_marksDf.withColumnRenamed('score','mark')\n",
    "_marksDf.printSchema()"
   ]
  },
  {
   "cell_type": "code",
   "execution_count": 10,
   "id": "3bc2e696",
   "metadata": {},
   "outputs": [
    {
     "name": "stdout",
     "output_type": "stream",
     "text": [
      "+------+--------+-----+\n",
      "|  name| subject| mark|\n",
      "+------+--------+-----+\n",
      "|김하나| English|100.0|\n",
      "|김하나|    Math| 80.0|\n",
      "|임하나| English| 70.0|\n",
      "|임하나|    Math|100.0|\n",
      "|김갑돌| English| 82.3|\n",
      "|김갑돌|    Math| 98.5|\n",
      "+------+--------+-----+\n",
      "\n"
     ]
    }
   ],
   "source": [
    "_marksDf.show()"
   ]
  },
  {
   "cell_type": "markdown",
   "id": "4373c60a",
   "metadata": {},
   "source": [
    "## 문제 1-2 zscore 컬럼을 생성."
   ]
  },
  {
   "cell_type": "code",
   "execution_count": 16,
   "id": "f73feb74",
   "metadata": {
    "scrolled": true
   },
   "outputs": [],
   "source": [
    "marksScore = _marksDf.select(\n",
    "    F.mean('mark'),\n",
    "    F.stddev('mark')\n",
    ").collect()"
   ]
  },
  {
   "cell_type": "code",
   "execution_count": 17,
   "id": "c6e932d1",
   "metadata": {},
   "outputs": [
    {
     "data": {
      "text/plain": [
       "[Row(avg(mark)=88.46666717529297, stddev_samp(mark)=12.786190172956093)]"
      ]
     },
     "execution_count": 17,
     "metadata": {},
     "output_type": "execute_result"
    }
   ],
   "source": [
    "marksScore"
   ]
  },
  {
   "cell_type": "code",
   "execution_count": 18,
   "id": "80998d66",
   "metadata": {},
   "outputs": [
    {
     "name": "stdout",
     "output_type": "stream",
     "text": [
      "88.46666717529297 12.786190172956093\n"
     ]
    }
   ],
   "source": [
    "meanM = marksScore[0][0]\n",
    "stvM = marksScore[0][1]\n",
    "print(meanM, stvM)"
   ]
  },
  {
   "cell_type": "code",
   "execution_count": 20,
   "id": "0e429bf8",
   "metadata": {
    "scrolled": true
   },
   "outputs": [
    {
     "name": "stdout",
     "output_type": "stream",
     "text": [
      "root\n",
      " |-- name: string (nullable = true)\n",
      " |-- subject: string (nullable = true)\n",
      " |-- mark: float (nullable = true)\n",
      " |-- markF: string (nullable = true)\n",
      "\n"
     ]
    }
   ],
   "source": [
    "from pyspark.sql.functions import udf\n",
    "\n",
    "zscoreUdf = F.udf(lambda x : (x-meanM)/stvM)\n",
    "_marksDf = _marksDf.withColumn(\"markF\",zscoreUdf(_marksDf.mark))\n",
    "_marksDf.printSchema()"
   ]
  },
  {
   "cell_type": "markdown",
   "id": "0176d1ab",
   "metadata": {},
   "source": [
    "### 1-2 답"
   ]
  },
  {
   "cell_type": "code",
   "execution_count": 21,
   "id": "3ce94191",
   "metadata": {
    "scrolled": true
   },
   "outputs": [
    {
     "name": "stdout",
     "output_type": "stream",
     "text": [
      "+------+--------+-----+-------------------+\n",
      "|  name| subject| mark|              markF|\n",
      "+------+--------+-----+-------------------+\n",
      "|김하나| English|100.0|  0.902014804151829|\n",
      "|김하나|    Math| 80.0| -0.662172786480269|\n",
      "|임하나| English| 70.0| -1.444266581796318|\n",
      "|임하나|    Math|100.0|  0.902014804151829|\n",
      "|김갑돌| English| 82.3|-0.4822909748814927|\n",
      "|김갑돌|    Math| 98.5| 0.7847007348544217|\n",
      "+------+--------+-----+-------------------+\n",
      "\n"
     ]
    }
   ],
   "source": [
    "_marksDf.show()"
   ]
  },
  {
   "cell_type": "markdown",
   "id": "326fe942",
   "metadata": {},
   "source": [
    "## 1-3 cdf 컬럼을 생성."
   ]
  },
  {
   "cell_type": "code",
   "execution_count": 23,
   "id": "b7c40329",
   "metadata": {},
   "outputs": [],
   "source": [
    "markScore2=_marksDf.select(\"mark\").collect()"
   ]
  },
  {
   "cell_type": "code",
   "execution_count": 24,
   "id": "77ae78e1",
   "metadata": {},
   "outputs": [
    {
     "name": "stdout",
     "output_type": "stream",
     "text": [
      "[Row(mark=100.0), Row(mark=80.0), Row(mark=70.0), Row(mark=100.0), Row(mark=82.30000305175781), Row(mark=98.5)]\n"
     ]
    }
   ],
   "source": [
    "print(markScore2)"
   ]
  },
  {
   "cell_type": "code",
   "execution_count": 29,
   "id": "2b25ac86",
   "metadata": {},
   "outputs": [
    {
     "name": "stdout",
     "output_type": "stream",
     "text": [
      "root\n",
      " |-- name: string (nullable = true)\n",
      " |-- subject: string (nullable = true)\n",
      " |-- mark: float (nullable = true)\n",
      " |-- markF: string (nullable = true)\n",
      " |-- cdf: string (nullable = true)\n",
      "\n"
     ]
    }
   ],
   "source": [
    "from scipy.stats import norm\n",
    "\n",
    "markCdf = F.udf(lambda x :float(norm.cdf(x)))\n",
    "_marksDf = _marksDf.withColumn(\"cdf\",markCdf(_marksDf.markF))\n",
    "_marksDf.printSchema()"
   ]
  },
  {
   "cell_type": "markdown",
   "id": "c586a5f6",
   "metadata": {},
   "source": [
    "### 1-3 답"
   ]
  },
  {
   "cell_type": "code",
   "execution_count": 30,
   "id": "348be01b",
   "metadata": {},
   "outputs": [
    {
     "name": "stdout",
     "output_type": "stream",
     "text": [
      "+------+--------+-----+-------------------+-------------------+\n",
      "|  name| subject| mark|              markF|                cdf|\n",
      "+------+--------+-----+-------------------+-------------------+\n",
      "|김하나| English|100.0|  0.902014804151829| 0.8164754981807292|\n",
      "|김하나|    Math| 80.0| -0.662172786480269| 0.2539302463290559|\n",
      "|임하나| English| 70.0| -1.444266581796318| 0.0743320011235712|\n",
      "|임하나|    Math|100.0|  0.902014804151829| 0.8164754981807292|\n",
      "|김갑돌| English| 82.3|-0.4822909748814927|0.31479962882028223|\n",
      "|김갑돌|    Math| 98.5| 0.7847007348544217| 0.7836854740814176|\n",
      "+------+--------+-----+-------------------+-------------------+\n",
      "\n"
     ]
    }
   ],
   "source": [
    "_marksDf.show()"
   ]
  },
  {
   "cell_type": "code",
   "execution_count": null,
   "id": "c9e54ce8",
   "metadata": {},
   "outputs": [],
   "source": []
  }
 ],
 "metadata": {
  "kernelspec": {
   "display_name": "Python 3",
   "language": "python",
   "name": "python3"
  },
  "language_info": {
   "codemirror_mode": {
    "name": "ipython",
    "version": 3
   },
   "file_extension": ".py",
   "mimetype": "text/x-python",
   "name": "python",
   "nbconvert_exporter": "python",
   "pygments_lexer": "ipython3",
   "version": "3.8.8"
  }
 },
 "nbformat": 4,
 "nbformat_minor": 5
}
