{
 "cells": [
  {
   "cell_type": "markdown",
   "id": "201e96c0",
   "metadata": {},
   "source": [
    "## 문제 \n",
    "<br>\n",
    "<strong>\n",
    "아래 데이터를 RDD로 만들고, 성적의 합계 및 평균을 계산하세요.\n",
    "\n",
    "문항별로 RDD를 만들지 말고, 하나의 RDD만을 생성하고, 이를 변형해서 문제를 푸세요.\n",
    "</strong>\n",
    "\n",
    "```\n",
    "이름 | 과목 | 점수\n",
    "\n",
    "-----|-----|-----\n",
    "\n",
    "김하나 | English | 100\n",
    "\n",
    "김하나 | Math | 80\n",
    "\n",
    "임하나 | English | 70\n",
    "\n",
    "임하나 | Math | 100\n",
    "\n",
    "김갑돌 | English | 82.3\n",
    "\n",
    "김갑돌 | Math | 98.5\n",
    "```"
   ]
  },
  {
   "cell_type": "code",
   "execution_count": 1,
   "id": "70c14a79",
   "metadata": {},
   "outputs": [],
   "source": [
    "import findspark\n",
    "findspark.init()"
   ]
  },
  {
   "cell_type": "code",
   "execution_count": 2,
   "id": "1490add2",
   "metadata": {},
   "outputs": [],
   "source": [
    "import pyspark\n",
    "\n",
    "myConf=pyspark.SparkConf()\n",
    "spark = pyspark.sql.SparkSession\\\n",
    "    .builder\\\n",
    "    .master(\"local\")\\\n",
    "    .appName(\"myApp\")\\\n",
    "    .config(conf=myConf)\\\n",
    "    .getOrCreate()"
   ]
  },
  {
   "cell_type": "code",
   "execution_count": 3,
   "id": "704d6f08",
   "metadata": {},
   "outputs": [],
   "source": [
    "import os\n",
    "os.environ[\"PYSPARK_PYTHON\"]=\"C:\\\\Users\\\\user\\\\anaconda3\\\\python.exe\"\n",
    "os.environ[\"PYSPARK_DRIVER_PYTHON\"]=\"C:\\\\Users\\\\user\\\\anaconda3\\\\python.exe\"\n",
    "os.environ[\"JAVA_HOME\"]=\"C:\\\\Program Files\\\\Java\\\\jdk-11.0.2\\\\bin\""
   ]
  },
  {
   "cell_type": "code",
   "execution_count": 4,
   "id": "24a38c9b",
   "metadata": {},
   "outputs": [],
   "source": [
    "marks = [\"'김하나', 'English', 100.0\",\n",
    "         \"'김하나', 'Math', 80.0\",\n",
    "         \"'임하나', 'English', 70.0\",\n",
    "         \"'임하나', 'Math', 100.0\",\n",
    "         \"'김갑돌', 'English', 82.3\",\n",
    "         \"'김갑돌', 'Math', 98.5\"]"
   ]
  },
  {
   "cell_type": "markdown",
   "id": "330fb62f",
   "metadata": {},
   "source": [
    "###  문제 3-1: 이름으로 합계를 구해보자. 올바른 출력은 다음과 같다.\n",
    "\n",
    "\n",
    "```\n",
    "\n",
    "'임하나' 170.0\n",
    "\n",
    "'김하나' 180.0\n",
    "\n",
    "'김갑돌' 180.8\n",
    "\n",
    "```"
   ]
  },
  {
   "cell_type": "code",
   "execution_count": 5,
   "id": "8aeac6e1",
   "metadata": {},
   "outputs": [],
   "source": [
    "_marksRdd=spark.sparkContext.parallelize(marks)"
   ]
  },
  {
   "cell_type": "code",
   "execution_count": 6,
   "id": "f9761313",
   "metadata": {},
   "outputs": [],
   "source": [
    "_marksbyname =_marksRdd\\\n",
    "    .map(lambda x: x.split(','))\\\n",
    "    .map(lambda x: (x[0], float(x[2])))\\\n",
    "    .reduceByKey(lambda x,y:x+y)\\\n",
    "    .collect()"
   ]
  },
  {
   "cell_type": "code",
   "execution_count": 7,
   "id": "54d56bef",
   "metadata": {},
   "outputs": [
    {
     "name": "stdout",
     "output_type": "stream",
     "text": [
      "'김하나' 180.0\n",
      "'임하나' 170.0\n",
      "'김갑돌' 180.8\n"
     ]
    }
   ],
   "source": [
    "for i in _marksbyname:\n",
    "    print(i[0], i[1])"
   ]
  },
  {
   "cell_type": "markdown",
   "id": "e2843b6b",
   "metadata": {},
   "source": [
    "### 문제 3-2: 과목으로 합계를 계산해 보자. 출력은 다음과 같이 나와야 한다.\n",
    "\n",
    "\n",
    "```\n",
    "\n",
    "'English' 252.3\n",
    "\n",
    "'Math' 278.5\n",
    "\n",
    "```"
   ]
  },
  {
   "cell_type": "code",
   "execution_count": 8,
   "id": "7e19fe82",
   "metadata": {},
   "outputs": [
    {
     "name": "stdout",
     "output_type": "stream",
     "text": [
      " 'English' 252.3\n",
      " 'Math' 278.5\n"
     ]
    }
   ],
   "source": [
    "_marksbysubject =_marksRdd\\\n",
    "    .map(lambda x: x.split(','))\\\n",
    "    .map(lambda x: (x[1], float(x[2])))\\\n",
    "    .reduceByKey(lambda x,y:x+y)\\\n",
    "    .collect()\n",
    "for i in _marksbysubject:\n",
    "    print(i[0], i[1])"
   ]
  },
  {
   "cell_type": "markdown",
   "id": "c091caad",
   "metadata": {},
   "source": [
    "### 문제 3-3: 이름으로 합계과 개수를 구해보자. 출력은 다음과 같이 계산된다.\n",
    "\n",
    "\n",
    "```\n",
    "\n",
    "'임하나' (170.0, 2)\n",
    "\n",
    "'김하나' (180.0, 2)\n",
    "\n",
    "'김갑돌' (180.8, 2)\n",
    "\n",
    "```"
   ]
  },
  {
   "cell_type": "code",
   "execution_count": 9,
   "id": "4fafbef7",
   "metadata": {},
   "outputs": [],
   "source": [
    "_marksbyname2 = _marksRdd\\\n",
    "    .map(lambda x: x.split(','))\\\n",
    "    .map(lambda x: (x[0], float(x[2])))"
   ]
  },
  {
   "cell_type": "code",
   "execution_count": 10,
   "id": "b5bd388e",
   "metadata": {},
   "outputs": [],
   "source": [
    "sum_counts = _marksbyname2.combineByKey(\n",
    "    (lambda x: (x,1)),\n",
    "    (lambda acc, value: (acc[0]+value, acc[1]+1)),\n",
    "    (lambda acc1, acc2: (acc1[0]+acc2[0], acc1[1]+acc2[1]))\n",
    ")"
   ]
  },
  {
   "cell_type": "code",
   "execution_count": 11,
   "id": "b3ffba18",
   "metadata": {},
   "outputs": [
    {
     "name": "stdout",
     "output_type": "stream",
     "text": [
      "'김하나' (180.0, 2) \n",
      "'임하나' (170.0, 2) \n",
      "'김갑돌' (180.8, 2) \n"
     ]
    }
   ],
   "source": [
    "for i in sum_counts.collect():\n",
    "    for each in i:\n",
    "        print(each, end=\" \")\n",
    "    print()"
   ]
  },
  {
   "cell_type": "markdown",
   "id": "94af91fa",
   "metadata": {},
   "source": [
    "### 문제 3-4: 이름으로 평균을 계산해 보자. 앞서 3-3에서 사용했던 결과를 활용하고, 올바른 출력은 다음과 같다.\n",
    "\n",
    "\n",
    "\n",
    "```\n",
    "\n",
    "'임하나' 85.0\n",
    "\n",
    "'김하나' 90.0\n",
    "\n",
    "'김갑돌' 90.4\n",
    "\n",
    "```\n",
    "\n"
   ]
  },
  {
   "cell_type": "code",
   "execution_count": 12,
   "id": "91a00581",
   "metadata": {},
   "outputs": [
    {
     "name": "stdout",
     "output_type": "stream",
     "text": [
      "'김하나' 90.0 \n",
      "'임하나' 85.0 \n",
      "'김갑돌' 90.4 \n"
     ]
    }
   ],
   "source": [
    "averageByKey = sum_counts\\\n",
    "    .map(lambda x: (x[0],x[1][0]/x[1][1]))\\\n",
    "    .collect()\n",
    "for i in averageByKey:\n",
    "    for j in i:\n",
    "        print(j, end=' ')\n",
    "    print()"
   ]
  },
  {
   "cell_type": "code",
   "execution_count": null,
   "id": "b3b7bff9",
   "metadata": {},
   "outputs": [],
   "source": []
  }
 ],
 "metadata": {
  "kernelspec": {
   "display_name": "Python 3",
   "language": "python",
   "name": "python3"
  },
  "language_info": {
   "codemirror_mode": {
    "name": "ipython",
    "version": 3
   },
   "file_extension": ".py",
   "mimetype": "text/x-python",
   "name": "python",
   "nbconvert_exporter": "python",
   "pygments_lexer": "ipython3",
   "version": "3.8.8"
  }
 },
 "nbformat": 4,
 "nbformat_minor": 5
}
